{
 "cells": [
  {
   "cell_type": "code",
   "execution_count": 1,
   "id": "4b8bf2c3-9391-406c-a234-a09948306ad3",
   "metadata": {},
   "outputs": [],
   "source": [
    "import json\n",
    "import torch\n",
    "import faiss\n",
    "import numpy as np\n",
    "from transformers import AutoModel, AutoTokenizer\n",
    "from fastapi import FastAPI\n",
    "import faiss\n",
    "import numpy as np\n",
    "import uvicorn\n",
    "import asyncio\n",
    "import nest_asyncio"
   ]
  },
  {
   "cell_type": "code",
   "execution_count": 3,
   "id": "d0bc6c19-e508-45a4-ba88-e5faa0322b0a",
   "metadata": {},
   "outputs": [
    {
     "data": {
      "application/vnd.jupyter.widget-view+json": {
       "model_id": "d9ad9b3de25545228f47897cf0b46372",
       "version_major": 2,
       "version_minor": 0
      },
      "text/plain": [
       "tokenizer_config.json:   0%|          | 0.00/48.0 [00:00<?, ?B/s]"
      ]
     },
     "metadata": {},
     "output_type": "display_data"
    },
    {
     "data": {
      "application/vnd.jupyter.widget-view+json": {
       "model_id": "b5ef159e94a14966918e7c91d071d403",
       "version_major": 2,
       "version_minor": 0
      },
      "text/plain": [
       "config.json:   0%|          | 0.00/1.02k [00:00<?, ?B/s]"
      ]
     },
     "metadata": {},
     "output_type": "display_data"
    },
    {
     "data": {
      "application/vnd.jupyter.widget-view+json": {
       "model_id": "1a92904268ff471fb4093f5088583f1a",
       "version_major": 2,
       "version_minor": 0
      },
      "text/plain": [
       "vocab.txt:   0%|          | 0.00/222k [00:00<?, ?B/s]"
      ]
     },
     "metadata": {},
     "output_type": "display_data"
    },
    {
     "data": {
      "application/vnd.jupyter.widget-view+json": {
       "model_id": "6751c1c71c644677b81699cc3b6a4316",
       "version_major": 2,
       "version_minor": 0
      },
      "text/plain": [
       "special_tokens_map.json:   0%|          | 0.00/112 [00:00<?, ?B/s]"
      ]
     },
     "metadata": {},
     "output_type": "display_data"
    },
    {
     "data": {
      "application/vnd.jupyter.widget-view+json": {
       "model_id": "041a1aa3896e4f978a3ab2aac3381219",
       "version_major": 2,
       "version_minor": 0
      },
      "text/plain": [
       "pytorch_model.bin:   0%|          | 0.00/440M [00:00<?, ?B/s]"
      ]
     },
     "metadata": {},
     "output_type": "display_data"
    },
    {
     "data": {
      "text/plain": [
       "BertModel(\n",
       "  (embeddings): BertEmbeddings(\n",
       "    (word_embeddings): Embedding(30522, 768, padding_idx=0)\n",
       "    (position_embeddings): Embedding(512, 768)\n",
       "    (token_type_embeddings): Embedding(2, 768)\n",
       "    (LayerNorm): LayerNorm((768,), eps=1e-12, elementwise_affine=True)\n",
       "    (dropout): Dropout(p=0.1, inplace=False)\n",
       "  )\n",
       "  (encoder): BertEncoder(\n",
       "    (layer): ModuleList(\n",
       "      (0-11): 12 x BertLayer(\n",
       "        (attention): BertAttention(\n",
       "          (self): BertSdpaSelfAttention(\n",
       "            (query): Linear(in_features=768, out_features=768, bias=True)\n",
       "            (key): Linear(in_features=768, out_features=768, bias=True)\n",
       "            (value): Linear(in_features=768, out_features=768, bias=True)\n",
       "            (dropout): Dropout(p=0.1, inplace=False)\n",
       "          )\n",
       "          (output): BertSelfOutput(\n",
       "            (dense): Linear(in_features=768, out_features=768, bias=True)\n",
       "            (LayerNorm): LayerNorm((768,), eps=1e-12, elementwise_affine=True)\n",
       "            (dropout): Dropout(p=0.1, inplace=False)\n",
       "          )\n",
       "        )\n",
       "        (intermediate): BertIntermediate(\n",
       "          (dense): Linear(in_features=768, out_features=3072, bias=True)\n",
       "          (intermediate_act_fn): GELUActivation()\n",
       "        )\n",
       "        (output): BertOutput(\n",
       "          (dense): Linear(in_features=3072, out_features=768, bias=True)\n",
       "          (LayerNorm): LayerNorm((768,), eps=1e-12, elementwise_affine=True)\n",
       "          (dropout): Dropout(p=0.1, inplace=False)\n",
       "        )\n",
       "      )\n",
       "    )\n",
       "  )\n",
       "  (pooler): BertPooler(\n",
       "    (dense): Linear(in_features=768, out_features=768, bias=True)\n",
       "    (activation): Tanh()\n",
       "  )\n",
       ")"
      ]
     },
     "execution_count": 3,
     "metadata": {},
     "output_type": "execute_result"
    }
   ],
   "source": [
    "# Load Legal-BERT Model\n",
    "MODEL_NAME = \"nlpaueb/legal-bert-base-uncased\"\n",
    "tokenizer = AutoTokenizer.from_pretrained(MODEL_NAME)\n",
    "model = AutoModel.from_pretrained(MODEL_NAME)\n",
    "\n",
    "# Set to evaluation mode\n",
    "model.eval()\n"
   ]
  },
  {
   "cell_type": "code",
   "execution_count": 3,
   "id": "0fa5cc72-9e92-4088-b0c5-c37483e9c924",
   "metadata": {},
   "outputs": [],
   "source": [
    "json_path = \"merged_outputV5.json\"\n",
    "with open(json_path, \"r\", encoding=\"utf-8\") as file:\n",
    "    data = json.load(file)\n",
    "\n",
    "documents = data.get(\"documents\", [])\n"
   ]
  },
  {
   "cell_type": "code",
   "execution_count": 7,
   "id": "8ce4da0b-d720-4076-85e7-0f95e4a4ee89",
   "metadata": {},
   "outputs": [],
   "source": [
    "# Function to generate embeddings\n",
    "def get_embedding(text):\n",
    "    \"\"\"Generate embedding for a given text using Legal-BERT.\"\"\"\n",
    "    if not text:\n",
    "        return np.zeros((768,))  # Return zero vector for empty text\n",
    "    \n",
    "    inputs = tokenizer(text, return_tensors=\"pt\", truncation=True, padding=True, max_length=512)\n",
    "    with torch.no_grad():\n",
    "        outputs = model(**inputs)\n",
    "    return outputs.last_hidden_state[:, 0, :].numpy().flatten()  # Extract CLS token\n"
   ]
  },
  {
   "cell_type": "code",
   "execution_count": 9,
   "id": "9b47edde-adef-4019-9434-75c2f3831324",
   "metadata": {},
   "outputs": [],
   "source": [
    "# Prepare text and embeddings\n",
    "doc_embeddings = []\n",
    "doc_ids = []\n",
    "\n",
    "for doc in documents:\n",
    "    doc_id = doc[\"DocID\"]\n",
    "    paragraphs = doc.get(\"paragraphs\", [])\n",
    "    \n",
    "    for para in paragraphs:\n",
    "        context_text = para.get(\"context\", \"\")\n",
    "        qas_texts = [qa[\"question\"] for qa in para.get(\"qas\", [])]\n",
    "        csvqas_texts = [csvqa[\"question\"] for csvqa in para.get(\"CSVqas\", [])]\n",
    "        \n",
    "        combined_text = f\"{context_text} {' '.join(qas_texts)} {' '.join(csvqas_texts)}\"\n",
    "        embedding = get_embedding(combined_text)\n",
    "        \n",
    "        doc_embeddings.append(embedding)\n",
    "        doc_ids.append(doc_id)"
   ]
  },
  {
   "cell_type": "code",
   "execution_count": 11,
   "id": "c0a4c559-b9d0-44e1-9e5e-49c41edfecb1",
   "metadata": {},
   "outputs": [],
   "source": [
    "# Convert embeddings to FAISS format\n",
    "doc_embeddings = np.array(doc_embeddings).astype(\"float32\")\n",
    "faiss_index = faiss.IndexFlatL2(768)  # 768 is the embedding dimension\n",
    "faiss_index.add(doc_embeddings)"
   ]
  },
  {
   "cell_type": "code",
   "execution_count": 13,
   "id": "4d9a208a-2cd0-4ece-9237-dddb7720030b",
   "metadata": {},
   "outputs": [],
   "source": [
    "# Save FAISS index\n",
    "faiss.write_index(faiss_index, \"slacara.index\")\n"
   ]
  },
  {
   "cell_type": "code",
   "execution_count": 15,
   "id": "06852a34-129f-4819-861f-64afd4aeb1c4",
   "metadata": {},
   "outputs": [
    {
     "name": "stdout",
     "output_type": "stream",
     "text": [
      "✅ Legal-BERT embeddings created and saved successfully!\n"
     ]
    }
   ],
   "source": [
    "# Save DocID mapping\n",
    "with open(\"docid_mapping.json\", \"w\", encoding=\"utf-8\") as f:\n",
    "    json.dump(doc_ids, f)\n",
    "\n",
    "print(\"✅ Legal-BERT embeddings created and saved successfully!\")"
   ]
  },
  {
   "cell_type": "code",
   "execution_count": 17,
   "id": "793deac2-277e-4fd8-9ed0-03d69e596d0f",
   "metadata": {},
   "outputs": [
    {
     "name": "stdout",
     "output_type": "stream",
     "text": [
      "✅ FAISS index contains 510 vectors\n",
      "✅ Document ID list contains 510 entries\n",
      "✅ Embeddings successfully validated!\n"
     ]
    }
   ],
   "source": [
    "# Load FAISS Index\n",
    "faiss_index = faiss.read_index(\"slacara.index\")\n",
    "\n",
    "# Load DocID Mapping\n",
    "with open(\"docid_mapping.json\", \"r\", encoding=\"utf-8\") as f:\n",
    "    doc_ids = json.load(f)\n",
    "\n",
    "print(f\"✅ FAISS index contains {faiss_index.ntotal} vectors\")\n",
    "print(f\"✅ Document ID list contains {len(doc_ids)} entries\")\n",
    "\n",
    "# Validate that embeddings match doc count\n",
    "assert faiss_index.ntotal == len(doc_ids), \"❌ Mismatch between FAISS embeddings and DocIDs!\"\n",
    "print(\"✅ Embeddings successfully validated!\")\n"
   ]
  },
  {
   "cell_type": "code",
   "execution_count": 19,
   "id": "b9711b55-ad65-464d-bf0e-1fb42082a4e5",
   "metadata": {},
   "outputs": [
    {
     "name": "stdout",
     "output_type": "stream",
     "text": [
      "DocID: 443, Score: 413.92498779296875\n",
      "DocID: 164, Score: 415.1919860839844\n",
      "DocID: 93, Score: 416.2054138183594\n",
      "DocID: 47, Score: 418.238037109375\n",
      "DocID: 305, Score: 418.8833312988281\n"
     ]
    }
   ],
   "source": [
    "def retrieve_similar(query, top_k=5):\n",
    "    \"\"\"Retrieve top-k similar documents using FAISS.\"\"\"\n",
    "    query_embedding = get_embedding(query).reshape(1, -1)\n",
    "    distances, indices = faiss_index.search(query_embedding, top_k)\n",
    "\n",
    "    results = []\n",
    "    for i in range(top_k):\n",
    "        doc_id = doc_ids[indices[0][i]]\n",
    "        results.append({\"DocID\": doc_id, \"Score\": distances[0][i]})\n",
    "    \n",
    "    return results\n",
    "\n",
    "# Example Query\n",
    "query = \"What are the terms of the agreement?\"\n",
    "results = retrieve_similar(query)\n",
    "\n",
    "# Display Results\n",
    "for result in results:\n",
    "    print(f\"DocID: {result['DocID']}, Score: {result['Score']}\")\n"
   ]
  },
  {
   "cell_type": "code",
   "execution_count": 23,
   "id": "36c68e5b-9c98-4896-8d57-3881cd389064",
   "metadata": {},
   "outputs": [
    {
     "name": "stdout",
     "output_type": "stream",
     "text": [
      "📄 Original Document Text:\n",
      "CO-BRANDING AND ADVERTISING AGREEMENT\n",
      "\n",
      "THIS CO-BRANDING AND ADVERTISING AGREEMENT (the \"Agreement\") is made as of June 21, 1999 (the \"Effective Date\") by and between I-ESCROW, INC., with its principal place of business at 1730 S. Amphlett Blvd., Suite 233, San Mateo, California 94402 (\"i-Escrow\"), and 2THEMART.COM, INC. having its principal place of business at 18301 Von Karman Avenue, 7th Floor, Irvine, California 92612 (\"2TheMart\").\n",
      "\n",
      "1. DEFINITIONS.\n",
      "\n",
      "(a) \"CONTENT\" means all content or informat\n",
      "\n",
      "📊 Corresponding Embedding Vector:\n",
      "[ 0.29355064 -0.07363994 -0.52576756  0.44006988 -0.27381048  0.25637665\n",
      "  0.09302463  0.35416535 -0.22798778  0.48588574]\n"
     ]
    }
   ],
   "source": [
    "# Check a document's original text\n",
    "doc_index = 0  # Change this index to check different docs\n",
    "print(\"📄 Original Document Text:\")\n",
    "print(documents[doc_index][\"paragraphs\"][0][\"context\"][:500])  # Print first 500 chars\n",
    "\n",
    "# Check the corresponding embedding\n",
    "print(\"\\n📊 Corresponding Embedding Vector:\")\n",
    "print(doc_embeddings[doc_index][:10])  # Print first 10 values\n"
   ]
  },
  {
   "cell_type": "code",
   "execution_count": null,
   "id": "ab0f9691-5a33-4e55-b8bc-1a609d6ba72b",
   "metadata": {},
   "outputs": [],
   "source": []
  }
 ],
 "metadata": {
  "kernelspec": {
   "display_name": "Python 3 (ipykernel)",
   "language": "python",
   "name": "python3"
  },
  "language_info": {
   "codemirror_mode": {
    "name": "ipython",
    "version": 3
   },
   "file_extension": ".py",
   "mimetype": "text/x-python",
   "name": "python",
   "nbconvert_exporter": "python",
   "pygments_lexer": "ipython3",
   "version": "3.10.14"
  }
 },
 "nbformat": 4,
 "nbformat_minor": 5
}
